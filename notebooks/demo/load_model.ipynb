{
 "cells": [
  {
   "cell_type": "code",
   "execution_count": 16,
   "metadata": {
    "collapsed": true
   },
   "outputs": [],
   "source": [
    "import wandb"
   ]
  },
  {
   "cell_type": "code",
   "execution_count": 17,
   "outputs": [],
   "source": [
    "api = wandb.Api()\n",
    "artifact = api.artifact('ppierzc/propose_human36m/mpii-prod:latest')"
   ],
   "metadata": {
    "collapsed": false,
    "pycharm": {
     "name": "#%%\n"
    }
   }
  },
  {
   "cell_type": "code",
   "execution_count": 18,
   "outputs": [
    {
     "data": {
      "text/plain": "['QUERY',\n '__class__',\n '__delattr__',\n '__dict__',\n '__dir__',\n '__doc__',\n '__eq__',\n '__format__',\n '__ge__',\n '__getattribute__',\n '__getitem__',\n '__gt__',\n '__hash__',\n '__init__',\n '__init_subclass__',\n '__le__',\n '__lt__',\n '__module__',\n '__ne__',\n '__new__',\n '__reduce__',\n '__reduce_ex__',\n '__repr__',\n '__setattr__',\n '__setitem__',\n '__sizeof__',\n '__str__',\n '__subclasshook__',\n '__weakref__',\n '_add_download_root',\n '_aliases',\n '_artifact_name',\n '_attrs',\n '_default_root',\n '_dependent_artifacts',\n '_description',\n '_download_file',\n '_download_roots',\n '_entity',\n '_files',\n '_get_obj_entry',\n '_get_ref_artifact_from_entry',\n '_is_download_root',\n '_is_downloaded',\n '_list',\n '_load',\n '_load_dependent_manifests',\n '_load_manifest',\n '_local_path_to_name',\n '_manifest',\n '_manifest_entry_is_artifact_reference',\n '_metadata',\n '_project',\n '_sequence_name',\n '_use_as',\n '_version_index',\n 'add',\n 'add_dir',\n 'add_file',\n 'add_reference',\n 'aliases',\n 'checkout',\n 'client',\n 'commit_hash',\n 'created_at',\n 'delete',\n 'description',\n 'digest',\n 'download',\n 'entity',\n 'expected_type',\n 'file',\n 'from_id',\n 'get',\n 'get_path',\n 'id',\n 'json_encode',\n 'link',\n 'logged_by',\n 'manifest',\n 'metadata',\n 'name',\n 'new_file',\n 'project',\n 'save',\n 'size',\n 'state',\n 'type',\n 'updated_at',\n 'used_by',\n 'verify',\n 'version',\n 'wait']"
     },
     "execution_count": 18,
     "metadata": {},
     "output_type": "execute_result"
    }
   ],
   "source": [
    "dir(artifact)"
   ],
   "metadata": {
    "collapsed": false,
    "pycharm": {
     "name": "#%%\n"
    }
   }
  },
  {
   "cell_type": "code",
   "execution_count": 19,
   "outputs": [
    {
     "data": {
      "text/plain": "{}"
     },
     "execution_count": 19,
     "metadata": {},
     "output_type": "execute_result"
    }
   ],
   "source": [
    "artifact.metadata"
   ],
   "metadata": {
    "collapsed": false,
    "pycharm": {
     "name": "#%%\n"
    }
   }
  },
  {
   "cell_type": "code",
   "execution_count": 20,
   "outputs": [],
   "source": [
    "import yaml\n",
    "from pathlib import Path\n",
    "\n",
    "config_file = Path(\"mpii-prod\" + \".yaml\")\n",
    "config_file = Path(\"../../configs\") / \"human36m\" / config_file\n",
    "\n",
    "with open(config_file, \"r\") as f:\n",
    "    config = yaml.load(f, Loader=yaml.FullLoader)\n",
    "\n",
    "    if \"experiment_name\" not in config:\n",
    "        config[\"experiment_name\"] = \"mpii-prod\""
   ],
   "metadata": {
    "collapsed": false,
    "pycharm": {
     "name": "#%%\n"
    }
   }
  },
  {
   "cell_type": "code",
   "execution_count": 21,
   "outputs": [],
   "source": [
    "artifact.metadata = config"
   ],
   "metadata": {
    "collapsed": false,
    "pycharm": {
     "name": "#%%\n"
    }
   }
  },
  {
   "cell_type": "code",
   "execution_count": 22,
   "outputs": [
    {
     "data": {
      "text/plain": "True"
     },
     "execution_count": 22,
     "metadata": {},
     "output_type": "execute_result"
    }
   ],
   "source": [
    "artifact.save()"
   ],
   "metadata": {
    "collapsed": false,
    "pycharm": {
     "name": "#%%\n"
    }
   }
  },
  {
   "cell_type": "code",
   "execution_count": 23,
   "outputs": [
    {
     "data": {
      "text/plain": "{'seed': 0,\n 'checkpoint_every': 10,\n 'tags': ['mpii', 'human36m'],\n 'group': 'prod',\n 'dataset': {'dirname': '/data/human36m/processed', 'mpii': True},\n 'train': {'optimizer': {'lr': 0.001, 'weight_decay': 0},\n  'lr_scheduler': {'patience': 10,\n   'cooldown': 5,\n   'mode': 'min',\n   'factor': 0.1,\n   'threshold': 0.01,\n   'min_lr': 1e-06},\n  'batch_size': 200,\n  'epochs': 200},\n 'model': {'num_layers': 10,\n  'context_features': 10,\n  'hidden_features': 100,\n  'relations': ['x', 'c', 'r', 'x->x', 'x<-x', 'c->x', 'r->x']},\n 'embedding': {'name': 'sage',\n  'config': {'input_dim': 2, 'hidden_dim': 128, 'output_dim': 10}},\n 'experiment_name': 'mpii-prod'}"
     },
     "execution_count": 23,
     "metadata": {},
     "output_type": "execute_result"
    }
   ],
   "source": [
    "artifact.metadata"
   ],
   "metadata": {
    "collapsed": false,
    "pycharm": {
     "name": "#%%\n"
    }
   }
  },
  {
   "cell_type": "code",
   "execution_count": null,
   "outputs": [],
   "source": [],
   "metadata": {
    "collapsed": false,
    "pycharm": {
     "name": "#%%\n"
    }
   }
  }
 ],
 "metadata": {
  "kernelspec": {
   "display_name": "Python 3",
   "language": "python",
   "name": "python3"
  },
  "language_info": {
   "codemirror_mode": {
    "name": "ipython",
    "version": 2
   },
   "file_extension": ".py",
   "mimetype": "text/x-python",
   "name": "python",
   "nbconvert_exporter": "python",
   "pygments_lexer": "ipython2",
   "version": "2.7.6"
  }
 },
 "nbformat": 4,
 "nbformat_minor": 0
}